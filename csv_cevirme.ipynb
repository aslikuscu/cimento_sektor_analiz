{
 "cells": [
  {
   "cell_type": "code",
   "execution_count": 5,
   "id": "6b87a800-e105-4d67-8382-fdf4ef5c8829",
   "metadata": {
    "tags": []
   },
   "outputs": [],
   "source": [
    "import numpy as np\n",
    "import pandas as pd\n",
    "import matplotlib.pyplot as plt\n",
    "import seaborn as sns"
   ]
  },
  {
   "cell_type": "code",
   "execution_count": 19,
   "id": "f7fdaf7b-9ebb-47e0-bd3f-a41be1ab6cc3",
   "metadata": {
    "tags": []
   },
   "outputs": [],
   "source": [
    "data = pd.read_excel(r\"C:\\Users\\asli_\\PYTHON_PROJECTS\\CIMSA_PROJE\\klinker.xlsx\", header=0)"
   ]
  },
  {
   "cell_type": "code",
   "execution_count": 21,
   "id": "6cad551d-2839-4a5c-8508-51b76fd27da6",
   "metadata": {
    "tags": []
   },
   "outputs": [
    {
     "name": "stdout",
     "output_type": "stream",
     "text": [
      "Dosya Excel formatında.\n",
      "   MALZEME   YIL         ÜLKELER   TOPLAM  Denizyolu  Demiryolu  Karayolu\n",
      "0  klinker  2018            GANA  1656629  1656629.0        NaN       NaN\n",
      "1  klinker  2018         SENEGAL   563025   563025.0        NaN       NaN\n",
      "2  klinker  2018  FİLDİŞİ SAHİLİ   452964   452964.0        NaN       NaN\n",
      "3  klinker  2018       KOLOMBİYA   447786   447786.0        NaN       NaN\n",
      "4  klinker  2018            GİNE   390126   390126.0        NaN       NaN\n"
     ]
    }
   ],
   "source": [
    "try:\n",
    "    df = pd.read_excel(\"klinker.xlsx\")\n",
    "    print(\"Dosya Excel formatında.\")\n",
    "    # Dosyanın içeriğini önizle\n",
    "    print(df.head())\n",
    "except pd.errors.ParserError:\n",
    "    print(\"Dosya Excel formatında değil.\")\n",
    "except FileNotFoundError:\n",
    "    print(\"Dosya bulunamadı.\")"
   ]
  },
  {
   "cell_type": "code",
   "execution_count": 22,
   "id": "8b62b3f1-c1d3-4888-af90-a02ee7b8ec97",
   "metadata": {
    "tags": []
   },
   "outputs": [],
   "source": [
    "df.to_csv('klinker.csv', index=False)"
   ]
  },
  {
   "cell_type": "code",
   "execution_count": 23,
   "id": "59fa95df-19f1-4066-9f94-d51de308c41d",
   "metadata": {
    "tags": []
   },
   "outputs": [],
   "source": [
    "data = pd.read_excel(r\"C:\\Users\\asli_\\PYTHON_PROJECTS\\CIMSA_PROJE\\cimento.xlsx\", header=0)"
   ]
  },
  {
   "cell_type": "code",
   "execution_count": 24,
   "id": "c18de9bc-2629-4397-a439-3b7999c8926b",
   "metadata": {
    "tags": []
   },
   "outputs": [],
   "source": [
    "df.to_csv('cimento.csv', index = False)"
   ]
  },
  {
   "cell_type": "code",
   "execution_count": null,
   "id": "7898ae20-5d3d-4a23-965b-9d3f237fcf31",
   "metadata": {},
   "outputs": [],
   "source": [
    "df.head()"
   ]
  }
 ],
 "metadata": {
  "kernelspec": {
   "display_name": "Python 3 (ipykernel)",
   "language": "python",
   "name": "python3"
  },
  "language_info": {
   "codemirror_mode": {
    "name": "ipython",
    "version": 3
   },
   "file_extension": ".py",
   "mimetype": "text/x-python",
   "name": "python",
   "nbconvert_exporter": "python",
   "pygments_lexer": "ipython3",
   "version": "3.11.5"
  }
 },
 "nbformat": 4,
 "nbformat_minor": 5
}
